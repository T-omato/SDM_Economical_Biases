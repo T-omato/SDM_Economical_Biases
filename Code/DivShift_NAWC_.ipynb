{
 "cells": [
  {
   "cell_type": "code",
   "execution_count": 1,
   "id": "ddd4177e-0a4c-4968-bf7b-4585cebf4183",
   "metadata": {},
   "outputs": [],
   "source": [
    "from datasets import load_dataset\n",
    "from huggingface_hub import hf_hub_download\n",
    "import pandas as pd\n",
    "import os"
   ]
  },
  {
   "cell_type": "code",
   "execution_count": 9,
   "id": "f587c486-9cb5-4048-98e4-480a8af28ae3",
   "metadata": {},
   "outputs": [
    {
     "name": "stdout",
     "output_type": "stream",
     "text": [
      "C:\\Users\\pablo\\.cache\\huggingface\\hub\\datasets--elenagsierra--DivShift-NAWC\\snapshots\\776597b7e97e19b4d27fedd3583046d2f2c53c1a\\divshift_nawc.csv\n"
     ]
    }
   ],
   "source": [
    "nawc_path = hf_hub_download(\n",
    "    repo_id=\"elenagsierra/DivShift-NAWC\",\n",
    "    filename=\"divshift_nawc.csv\",\n",
    "    repo_type=\"dataset\"\n",
    ")\n",
    "print(nawc_path)"
   ]
  },
  {
   "cell_type": "code",
   "execution_count": 9,
   "id": "a6fad26b-06e6-499a-8c84-06a1d87431d4",
   "metadata": {},
   "outputs": [],
   "source": [
    "nawc_path = \"datasets--elenagsierra--DivShift-NAWC/snapshots/776597b7e97e19b4d27fedd3583046d2f2c53c1a\"\n",
    "filename = \"divshift_nawc.csv\"\n",
    "full_path = os.path.join(nawc_path, filename)"
   ]
  },
  {
   "cell_type": "code",
   "execution_count": 3,
   "id": "8d432fe1-503c-4005-aebc-bdd25132f7a8",
   "metadata": {},
   "outputs": [
    {
     "name": "stderr",
     "output_type": "stream",
     "text": [
      "C:\\Users\\pablo\\AppData\\Local\\Temp\\ipykernel_19464\\3534930439.py:3: DtypeWarning: Columns (46,61) have mixed types. Specify dtype option on import or set low_memory=False.\n",
      "  for chunk in pd.read_csv(full_path, chunksize=10000):\n",
      "C:\\Users\\pablo\\AppData\\Local\\Temp\\ipykernel_19464\\3534930439.py:3: DtypeWarning: Columns (46,61) have mixed types. Specify dtype option on import or set low_memory=False.\n",
      "  for chunk in pd.read_csv(full_path, chunksize=10000):\n",
      "C:\\Users\\pablo\\AppData\\Local\\Temp\\ipykernel_19464\\3534930439.py:3: DtypeWarning: Columns (64) have mixed types. Specify dtype option on import or set low_memory=False.\n",
      "  for chunk in pd.read_csv(full_path, chunksize=10000):\n",
      "C:\\Users\\pablo\\AppData\\Local\\Temp\\ipykernel_19464\\3534930439.py:3: DtypeWarning: Columns (63) have mixed types. Specify dtype option on import or set low_memory=False.\n",
      "  for chunk in pd.read_csv(full_path, chunksize=10000):\n",
      "C:\\Users\\pablo\\AppData\\Local\\Temp\\ipykernel_19464\\3534930439.py:3: DtypeWarning: Columns (63) have mixed types. Specify dtype option on import or set low_memory=False.\n",
      "  for chunk in pd.read_csv(full_path, chunksize=10000):\n",
      "C:\\Users\\pablo\\AppData\\Local\\Temp\\ipykernel_19464\\3534930439.py:3: DtypeWarning: Columns (65) have mixed types. Specify dtype option on import or set low_memory=False.\n",
      "  for chunk in pd.read_csv(full_path, chunksize=10000):\n",
      "C:\\Users\\pablo\\AppData\\Local\\Temp\\ipykernel_19464\\3534930439.py:3: DtypeWarning: Columns (66) have mixed types. Specify dtype option on import or set low_memory=False.\n",
      "  for chunk in pd.read_csv(full_path, chunksize=10000):\n",
      "C:\\Users\\pablo\\AppData\\Local\\Temp\\ipykernel_19464\\3534930439.py:3: DtypeWarning: Columns (46,67) have mixed types. Specify dtype option on import or set low_memory=False.\n",
      "  for chunk in pd.read_csv(full_path, chunksize=10000):\n",
      "C:\\Users\\pablo\\AppData\\Local\\Temp\\ipykernel_19464\\3534930439.py:3: DtypeWarning: Columns (68) have mixed types. Specify dtype option on import or set low_memory=False.\n",
      "  for chunk in pd.read_csv(full_path, chunksize=10000):\n",
      "C:\\Users\\pablo\\AppData\\Local\\Temp\\ipykernel_19464\\3534930439.py:3: DtypeWarning: Columns (46,69) have mixed types. Specify dtype option on import or set low_memory=False.\n",
      "  for chunk in pd.read_csv(full_path, chunksize=10000):\n"
     ]
    }
   ],
   "source": [
    "filtered_chunks = []\n",
    "\n",
    "for chunk in pd.read_csv(full_path, chunksize=10000):\n",
    "    mask = chunk.iloc[:, 0].astype(str).str.contains(\"california\", case=False, na=False)\n",
    "    filtered = chunk[mask]\n",
    "    filtered_chunks.append(filtered)\n",
    "\n",
    "df_filtered = pd.concat(filtered_chunks, ignore_index=True)\n",
    "df_filtered.to_csv(\"datasets--elenagsierra--DivShift-NAWC/snapshots/776597b7e97e19b4d27fedd3583046d2f2c53c1a/filtered_chunks_california.csv\", index=False)"
   ]
  },
  {
   "cell_type": "code",
   "execution_count": 4,
   "id": "0a275b5e-30b1-47d9-aa51-01b0179b8d0f",
   "metadata": {},
   "outputs": [
    {
     "name": "stdout",
     "output_type": "stream",
     "text": [
      "['state_name', 'observation_uuid', 'observer_id', 'latitude', 'longitude', 'positional_accuracy', 'taxon_id', 'quality_grade', 'observed_on', 'ancestry', 'rank_level', 'rank', 'name', 'vasc_ancestry', 'date', 'state', 'photo_uuid', 'photo_id', 'extension', 'license', 'width', 'height', 'position', 'bioclim_14', 'bioclim_13', 'bioclim_8', 'bioclim_1', 'bioclim_6', 'bioclim_12', 'bioclim_15', 'bioclim_7', 'bioclim_9', 'bioclim_3', 'bioclim_4', 'bioclim_16', 'bioclim_11', 'bioclim_18', 'bioclim_5', 'bioclim_2', 'bioclim_19', 'bioclim_10', 'bioclim_17', 'land_use', 'l3_ecoregion', 'l2_ecoregion', 'l1_ecoregion', 'l4_ecoregion', 'supervised', 'single_image', 'year', 'unsupervised_shared', 'supervised_shared', 'spatial_wilderness', 'spatial_modified', 'not_city_nature', 'city_nature', 'taxonomic_balanced', 'taxonomic_unbalanced', 'obs_engaged', 'obs_casual', 'alaska_socioeco', 'arizona_socioeco', 'baja_california_socioeco', 'baja_california_sur_socioeco', 'british_columbia_socioeco', 'california_socioeco', 'nevada_socioeco', 'oregon_socioeco', 'sonora_socioeco', 'washington_socioeco', 'yukon_socioeco', 'inat2021', 'inat2021mini', 'imagenet', 'spatial_split', 'random_split', 'soil_type', 'human_footprint']\n"
     ]
    }
   ],
   "source": [
    "print(df_filtered.columns.tolist())"
   ]
  },
  {
   "cell_type": "code",
   "execution_count": 5,
   "id": "0f1832e8-8530-4093-8da4-e34e45eca6e3",
   "metadata": {},
   "outputs": [],
   "source": [
    "subset = df_filtered[[\"observer_id\", \"latitude\", \"longitude\", \"positional_accuracy\", \"taxon_id\",\"observed_on\", \"human_footprint\"]]\n",
    "subset.to_csv(\"datasets--elenagsierra--DivShift-NAWC/snapshots/776597b7e97e19b4d27fedd3583046d2f2c53c1a/filtered_results_California.csv\", index=False)"
   ]
  }
 ],
 "metadata": {
  "kernelspec": {
   "display_name": "Python (hf_env)",
   "language": "python",
   "name": "hf_env"
  },
  "language_info": {
   "codemirror_mode": {
    "name": "ipython",
    "version": 3
   },
   "file_extension": ".py",
   "mimetype": "text/x-python",
   "name": "python",
   "nbconvert_exporter": "python",
   "pygments_lexer": "ipython3",
   "version": "3.10.18"
  }
 },
 "nbformat": 4,
 "nbformat_minor": 5
}
